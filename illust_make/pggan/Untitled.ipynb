{
 "cells": [
  {
   "cell_type": "code",
   "execution_count": 1,
   "metadata": {
    "scrolled": true
   },
   "outputs": [
    {
     "name": "stderr",
     "output_type": "stream",
     "text": [
      "/home/dmitri/anaconda3/envs/Tensorflow/lib/python3.5/importlib/_bootstrap.py:222: RuntimeWarning: numpy.dtype size changed, may indicate binary incompatibility. Expected 96, got 88\n",
      "  return f(*args, **kwds)\n",
      "/home/dmitri/anaconda3/envs/Tensorflow/lib/python3.5/importlib/_bootstrap.py:222: RuntimeWarning: numpy.dtype size changed, may indicate binary incompatibility. Expected 96, got 88\n",
      "  return f(*args, **kwds)\n",
      "/home/dmitri/anaconda3/envs/Tensorflow/lib/python3.5/importlib/_bootstrap.py:222: RuntimeWarning: numpy.dtype size changed, may indicate binary incompatibility. Expected 96, got 88\n",
      "  return f(*args, **kwds)\n"
     ]
    }
   ],
   "source": [
    "from __future__ import print_function\n",
    "from __future__ import division\n",
    "\n",
    "import matplotlib.pyplot as plt\n",
    "import numpy as np\n",
    "import math\n",
    "\n",
    "from config import cfg\n",
    "from net import DCGAN\n",
    "import tensorflow as tf\n",
    "\n",
    "cfg['beta1'] = 0.\n",
    "cfg['beta2'] = 0.99\n",
    "cfg['batch_size'] = 32\n",
    "cfg['save_period'] = 1000\n",
    "cfg['display_period'] = 100\n",
    "cfg['n_iters'] = 100000\n",
    "cfg['n_critic'] = 1\n",
    "cfg['learning_rate'] = 0.001\n",
    "cfg['norm_g'] = 'pixel_norm'\n",
    "cfg['norm_d'] = None\n",
    "cfg['weight_scale'] = True\n",
    "cfg['drift_loss'] = True\n",
    "cfg['loss_mode'] = 'wgan_gp'\n",
    "cfg['use_tanh'] = True\n",
    "cfg['save_images'] = True\n"
   ]
  },
  {
   "cell_type": "code",
   "execution_count": null,
   "metadata": {},
   "outputs": [
    {
     "name": "stdout",
     "output_type": "stream",
     "text": [
      "Size of training set :  56316\n",
      "Size of validation set :  6258\n"
     ]
    },
    {
     "name": "stderr",
     "output_type": "stream",
     "text": [
      "/home/dmitri/anaconda3/envs/Tensorflow/lib/python3.5/importlib/_bootstrap.py:222: RuntimeWarning: numpy.dtype size changed, may indicate binary incompatibility. Expected 96, got 88\n",
      "  return f(*args, **kwds)\n",
      "/home/dmitri/anaconda3/envs/Tensorflow/lib/python3.5/importlib/_bootstrap.py:222: RuntimeWarning: numpy.dtype size changed, may indicate binary incompatibility. Expected 96, got 88\n",
      "  return f(*args, **kwds)\n"
     ]
    },
    {
     "name": "stdout",
     "output_type": "stream",
     "text": [
      "WARNING:tensorflow:From /home/dmitri/PycharmProjects/GAN/illust_make/pggan/net.py:29: calling reduce_mean (from tensorflow.python.ops.math_ops) with keep_dims is deprecated and will be removed in a future version.\n",
      "Instructions for updating:\n",
      "keep_dims is deprecated, use keepdims instead\n"
     ]
    }
   ],
   "source": [
    "\n",
    "cfg['resolution'] = 8\n",
    "cfg['transition'] = False\n",
    "cfg['load_model'] = None\n",
    "\n",
    "model = DCGAN(cfg)\n",
    "model.train()\n"
   ]
  },
  {
   "cell_type": "code",
   "execution_count": null,
   "metadata": {},
   "outputs": [],
   "source": [
    "cfg['resolution'] = 16\n",
    "cfg['transition'] = True\n",
    "cfg['load_model'] = None\n",
    "\n",
    "tf.reset_default_graph()\n",
    "model = DCGAN(cfg)\n",
    "model.train()"
   ]
  },
  {
   "cell_type": "code",
   "execution_count": null,
   "metadata": {},
   "outputs": [],
   "source": [
    "cfg['resolution'] = 16\n",
    "cfg['transition'] = False\n",
    "cfg['load_model'] = '16x16_transition'\n",
    "\n",
    "tf.reset_default_graph()\n",
    "model = DCGAN(cfg)\n",
    "model.train()"
   ]
  },
  {
   "cell_type": "code",
   "execution_count": null,
   "metadata": {},
   "outputs": [],
   "source": [
    "cfg['resolution'] = 32\n",
    "cfg['transition'] = True\n",
    "cfg['load_model'] = None\n",
    "\n",
    "tf.reset_default_graph()\n",
    "model = DCGAN(cfg)\n",
    "model.train()"
   ]
  },
  {
   "cell_type": "code",
   "execution_count": null,
   "metadata": {},
   "outputs": [],
   "source": [
    "cfg['resolution'] = 32\n",
    "cfg['transition'] = False\n",
    "cfg['load_model'] = '32x32_transition'\n",
    "\n",
    "tf.reset_default_graph()\n",
    "model = DCGAN(cfg)\n",
    "model.train()"
   ]
  },
  {
   "cell_type": "code",
   "execution_count": null,
   "metadata": {},
   "outputs": [],
   "source": [
    "cfg['resolution'] = 64\n",
    "cfg['transition'] = True\n",
    "cfg['load_model'] = None\n",
    "\n",
    "tf.reset_default_graph()\n",
    "model = DCGAN(cfg)\n",
    "model.train()"
   ]
  },
  {
   "cell_type": "code",
   "execution_count": null,
   "metadata": {},
   "outputs": [],
   "source": [
    "cfg['resolution'] = 64\n",
    "cfg['transition'] = False\n",
    "cfg['load_model'] = '64x64_transition'\n",
    "\n",
    "tf.reset_default_graph()\n",
    "model = DCGAN(cfg)\n",
    "model.train()"
   ]
  },
  {
   "cell_type": "code",
   "execution_count": null,
   "metadata": {},
   "outputs": [],
   "source": [
    "cfg['resolution'] = 128\n",
    "cfg['transition'] = True\n",
    "cfg['load_model'] = None\n",
    "\n",
    "tf.reset_default_graph()\n",
    "model = DCGAN(cfg)\n",
    "model.train()"
   ]
  },
  {
   "cell_type": "code",
   "execution_count": null,
   "metadata": {},
   "outputs": [],
   "source": [
    "cfg['resolution'] = 128\n",
    "cfg['transition'] = False\n",
    "cfg['load_model'] = '128x128_transition'\n",
    "\n",
    "tf.reset_default_graph()\n",
    "model = DCGAN(cfg)\n",
    "model.train()"
   ]
  },
  {
   "cell_type": "code",
   "execution_count": null,
   "metadata": {},
   "outputs": [],
   "source": [
    "cfg['resolution'] = 256\n",
    "cfg['transition'] = True\n",
    "cfg['load_model'] = None\n",
    "\n",
    "tf.reset_default_graph()\n",
    "model = DCGAN(cfg)\n",
    "model.train()"
   ]
  },
  {
   "cell_type": "code",
   "execution_count": null,
   "metadata": {},
   "outputs": [],
   "source": [
    "cfg['resolution'] = 256\n",
    "cfg['transition'] = False\n",
    "cfg['load_model'] = '256x256_transition'\n",
    "\n",
    "tf.reset_default_graph()\n",
    "model = DCGAN(cfg)\n",
    "model.train()"
   ]
  },
  {
   "cell_type": "code",
   "execution_count": null,
   "metadata": {},
   "outputs": [],
   "source": [
    "cfg['resolution'] = 512\n",
    "cfg['transition'] = True\n",
    "cfg['load_model'] = None\n",
    "\n",
    "tf.reset_default_graph()\n",
    "model = DCGAN(cfg)\n",
    "model.train()"
   ]
  },
  {
   "cell_type": "code",
   "execution_count": null,
   "metadata": {},
   "outputs": [],
   "source": [
    "cfg['resolution'] = 512\n",
    "cfg['transition'] = False\n",
    "cfg['load_model'] = '512x512_transition'\n",
    "\n",
    "tf.reset_default_graph()\n",
    "model = DCGAN(cfg)\n",
    "model.train()"
   ]
  },
  {
   "cell_type": "code",
   "execution_count": null,
   "metadata": {},
   "outputs": [],
   "source": []
  }
 ],
 "metadata": {
  "kernelspec": {
   "display_name": "Python 3",
   "language": "python",
   "name": "python3"
  },
  "language_info": {
   "codemirror_mode": {
    "name": "ipython",
    "version": 3
   },
   "file_extension": ".py",
   "mimetype": "text/x-python",
   "name": "python",
   "nbconvert_exporter": "python",
   "pygments_lexer": "ipython3",
   "version": "3.5.5"
  }
 },
 "nbformat": 4,
 "nbformat_minor": 2
}
